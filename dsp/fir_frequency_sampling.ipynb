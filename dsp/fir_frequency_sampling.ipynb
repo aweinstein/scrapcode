{
 "cells": [
  {
   "cell_type": "markdown",
   "metadata": {},
   "source": [
    "# Design of a FIR filter using the frequency sampling method"
   ]
  },
  {
   "cell_type": "markdown",
   "metadata": {},
   "source": [
    "Alejandro Weinstein (alejandro.weinstein@gmail.com), 20150313"
   ]
  },
  {
   "cell_type": "code",
   "execution_count": 1,
   "metadata": {
    "collapsed": false
   },
   "outputs": [],
   "source": [
    "# Library imports\n",
    "import numpy as np\n",
    "import matplotlib.pyplot as plt\n",
    "from numpy.fft import ifft, ifftshift, fftshift\n",
    "from numpy import pi, abs, exp\n",
    "from scipy.signal import freqz\n",
    "%matplotlib inline"
   ]
  },
  {
   "cell_type": "markdown",
   "metadata": {},
   "source": [
    "$M$ defines the order of the FIR filter. A larger value of $M$ translates on a better approximation of the desired frequency response. A larger $M$ also means a more complex filter (larger memory footprint and larger execution time), and a larger time delay. "
   ]
  },
  {
   "cell_type": "code",
   "execution_count": 2,
   "metadata": {
    "collapsed": false
   },
   "outputs": [],
   "source": [
    "M = 81"
   ]
  },
  {
   "cell_type": "markdown",
   "metadata": {},
   "source": [
    "Lets create the vector $\\omega_k = \\frac{2\\pi k}{M}$, $k = 0, 1, \\ldots, M-1$ and vector $\\omega_{k\\_equiv}$ with frecuencias equivalentes a $\\omega_k$ en el rango $[-\\pi, \\pi]$:"
   ]
  },
  {
   "cell_type": "code",
   "execution_count": 3,
   "metadata": {
    "collapsed": false
   },
   "outputs": [],
   "source": [
    "omega_c = pi / 2\n",
    "k = np.arange(M)\n",
    "omega_k = 2 * pi * k / M\n",
    "omega_k_equiv = ((omega_k + pi) % (2*pi) ) - pi"
   ]
  },
  {
   "cell_type": "markdown",
   "metadata": {},
   "source": [
    "Then we create $H_d(\\omega_{k\\_equiv})$. We multiply by $e^{-j\\omega_{k\\_equiv}\\frac{M-1}{2}}$ to get linear phase."
   ]
  },
  {
   "cell_type": "code",
   "execution_count": 4,
   "metadata": {
    "collapsed": false
   },
   "outputs": [],
   "source": [
    "Hd_fun = lambda omega: (1 + 0.9*(abs(omega) >= omega_c))\n",
    "Hd =  Hd_fun(omega_k_equiv) * exp(-1j * omega_k_equiv * (M-1) / 2)"
   ]
  },
  {
   "cell_type": "markdown",
   "metadata": {},
   "source": [
    "We find $h(n)$ by calculating the IDFT of $Hd(\\omega_k)$."
   ]
  },
  {
   "cell_type": "code",
   "execution_count": 5,
   "metadata": {
    "collapsed": false
   },
   "outputs": [],
   "source": [
    "h = np.real(ifft(Hd))"
   ]
  },
  {
   "cell_type": "markdown",
   "metadata": {},
   "source": [
    "We can plot the result to veryfy the design."
   ]
  },
  {
   "cell_type": "code",
   "execution_count": 6,
   "metadata": {
    "collapsed": false
   },
   "outputs": [
    {
     "data": {
      "text/plain": [
       "<matplotlib.legend.Legend at 0x7f2771020ba8>"
      ]
     },
     "execution_count": 6,
     "metadata": {},
     "output_type": "execute_result"
    },
    {
     "data": {
      "image/png": "[encoded data removed]",
      "text/plain": [
       "<matplotlib.figure.Figure at 0x7f27981dd908>"
      ]
     },
     "metadata": {},
     "output_type": "display_data"
    }
   ],
   "source": [
    "w = np.linspace(-pi, pi, 500)\n",
    "_, H = freqz(h, 1, w)\n",
    "_, axs = plt.subplots(1, 2, figsize=(16,6))\n",
    "axs[0].stem(k, h)\n",
    "axs[0].set_xlim(-0.1, M-0.9)\n",
    "axs[0].set_xlabel('$n$', fontsize=24)\n",
    "axs[0].set_ylabel('$h(n)$', fontsize=24)\n",
    "\n",
    "axs[1].plot(w, abs(H), lw=2)\n",
    "axs[1].stem(omega_k_equiv, abs(Hd))\n",
    "#axs[1].plot(w, 1 + (abs(w) >= omega_c), lw=2, c='r')\n",
    "axs[1].plot(w, Hd_fun(w), lw=2, c='r')\n",
    "axs[1].set_xlim(-pi, pi)\n",
    "axs[1].set_xlabel(r'$\\omega$', fontsize=24)\n",
    "axs[1].set_xticks(([-pi, -pi/2, 0, pi/2, pi]))\n",
    "axs[1].set_xticklabels((r'$-\\pi$', r'$-\\pi/2$', '0', r'$\\pi/2$', r'$\\pi$'), fontsize=18)\n",
    "axs[1].legend((r'$H(\\omega)$', r'$H_d(\\omega)$',r'$H_d(\\omega_k)$'), loc='upper center', fontsize=20)"
   ]
  },
  {
   "cell_type": "markdown",
   "metadata": {},
   "source": [
    "For convinience we save the coefficients in the file `coeffs.txt`."
   ]
  },
  {
   "cell_type": "code",
   "execution_count": 7,
   "metadata": {
    "collapsed": false
   },
   "outputs": [],
   "source": [
    "fn = 'coeffs.txt'\n",
    "with open(fn, 'w') as f:\n",
    "    f.write('\\n'.join([str(c) for c in h]))"
   ]
  },
  {
   "cell_type": "code",
   "execution_count": null,
   "metadata": {
    "collapsed": false
   },
   "outputs": [],
   "source": []
  }
 ],
 "metadata": {
  "kernelspec": {
   "display_name": "Python 3",
   "language": "python",
   "name": "python3"
  },
  "language_info": {
   "codemirror_mode": {
    "name": "ipython",
    "version": 3
   },
   "file_extension": ".py",
   "mimetype": "text/x-python",
   "name": "python",
   "nbconvert_exporter": "python",
   "pygments_lexer": "ipython3",
   "version": "3.4.3"
  }
 },
 "nbformat": 4,
 "nbformat_minor": 0
}
