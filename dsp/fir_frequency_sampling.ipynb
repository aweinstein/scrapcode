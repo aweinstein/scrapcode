{
 "metadata": {
  "name": "",
  "signature": "sha256:aaba2e6615c2aab466a58105d7d793180bf1fa86db1bb366377801b80b4942a8"
 },
 "nbformat": 3,
 "nbformat_minor": 0,
 "worksheets": [
  {
   "cells": [
    {
     "cell_type": "heading",
     "level": 1,
     "metadata": {},
     "source": [
      "Design of a FIR filter using the frequency sampling method"
     ]
    },
    {
     "cell_type": "markdown",
     "metadata": {},
     "source": [
      "Alejandro Weinstein (alejandro.weinstein@gmail.com), 20150313"
     ]
    },
    {
     "cell_type": "code",
     "collapsed": false,
     "input": [
      "# Library imports\n",
      "import numpy as np\n",
      "import matplotlib.pyplot as plt\n",
      "from numpy.fft import ifft, ifftshift, fftshift\n",
      "from numpy import pi, abs, exp\n",
      "from scipy.signal import freqz\n",
      "%matplotlib inline"
     ],
     "language": "python",
     "metadata": {},
     "outputs": [],
     "prompt_number": 80
    },
    {
     "cell_type": "markdown",
     "metadata": {},
     "source": [
      "$M$ defines the order of the FIR filter. A larger value of $M$ translates on a better approximation of the desired frequency response. A larger $M$ also means a more complex filter (larger memory footprint and larger execution time), and a larger time delay. "
     ]
    },
    {
     "cell_type": "code",
     "collapsed": false,
     "input": [
      "M = 81"
     ],
     "language": "python",
     "metadata": {},
     "outputs": [],
     "prompt_number": 81
    },
    {
     "cell_type": "markdown",
     "metadata": {},
     "source": [
      "Lets create the vector $\\omega_k = \\frac{2\\pi k}{M}$, $k = 0, 1, \\ldots, M-1$ and vector $\\omega_{k\\_equiv}$ with frecuencias equivalentes a $\\omega_k$ en el rango $[-\\pi, \\pi]$:"
     ]
    },
    {
     "cell_type": "code",
     "collapsed": false,
     "input": [
      "omega_c = pi / 2\n",
      "k = np.arange(M)\n",
      "omega_k = 2 * pi * k / M\n",
      "omega_k_equiv = ((omega_k + pi) % (2*pi) ) - pi"
     ],
     "language": "python",
     "metadata": {},
     "outputs": [],
     "prompt_number": 82
    },
    {
     "cell_type": "markdown",
     "metadata": {},
     "source": [
      "Then we create $H_d(\\omega_{k\\_equiv})$. We multiply by $e^{-j\\omega_{k\\_equiv}\\frac{M-1}{2}}$ to get linear phase."
     ]
    },
    {
     "cell_type": "code",
     "collapsed": false,
     "input": [
      "Hd_fun = lambda omega: (1 + 0.9*(abs(omega) >= omega_c))\n",
      "Hd =  Hd_fun(omega_k_equiv) * exp(-1j * omega_k_equiv * (M-1) / 2)"
     ],
     "language": "python",
     "metadata": {},
     "outputs": [],
     "prompt_number": 87
    },
    {
     "cell_type": "markdown",
     "metadata": {},
     "source": [
      "We find $h(n)$ by calculating the IDFT of $Hd(\\omega_k)$."
     ]
    },
    {
     "cell_type": "code",
     "collapsed": false,
     "input": [
      "h = np.real(ifft(Hd))"
     ],
     "language": "python",
     "metadata": {},
     "outputs": [],
     "prompt_number": 88
    },
    {
     "cell_type": "markdown",
     "metadata": {},
     "source": [
      "We can plot the result to veryfy the design."
     ]
    },
    {
     "cell_type": "code",
     "collapsed": false,
     "input": [
      "w = np.linspace(-pi, pi, 500)\n",
      "_, H = freqz(h, 1, w)\n",
      "_, axs = plt.subplots(1, 2, figsize=(16,6))\n",
      "axs[0].stem(k, h)\n",
      "axs[0].set_xlim(-0.1, M-0.9)\n",
      "axs[0].set_xlabel('$n$', fontsize=24)\n",
      "axs[0].set_ylabel('$h(n)$', fontsize=24)\n",
      "\n",
      "axs[1].plot(w, abs(H), lw=2)\n",
      "axs[1].stem(omega_k_equiv, abs(Hd))\n",
      "#axs[1].plot(w, 1 + (abs(w) >= omega_c), lw=2, c='r')\n",
      "axs[1].plot(w, Hd_fun(w), lw=2, c='r')\n",
      "axs[1].set_xlim(-pi, pi)\n",
      "axs[1].set_xlabel(r'$\\omega$', fontsize=24)\n",
      "axs[1].set_xticks(([-pi, -pi/2, 0, pi/2, pi]))\n",
      "axs[1].set_xticklabels((r'$-\\pi$', r'$-\\pi/2$', '0', r'$\\pi/2$', r'$\\pi$'), fontsize=18)\n",
      "axs[1].legend((r'$H(\\omega)$', r'$H_d(\\omega)$',r'$H_d(\\omega_k)$'), loc='upper center', fontsize=20)"
     ],
     "language": "python",
     "metadata": {},
     "outputs": [
      {
       "metadata": {},
       "output_type": "pyout",
       "prompt_number": 89,
       "text": [
        "<matplotlib.legend.Legend at 0x7f8cfdbbd320>"
       ]
      },
      {
       "metadata": {},
       "output_type": "display_data",
       "png": "[encoded data removed]",
       "text": [
        "<matplotlib.figure.Figure at 0x7f8cfdc956a0>"
       ]
      }
     ],
     "prompt_number": 89
    },
    {
     "cell_type": "markdown",
     "metadata": {},
     "source": [
      "For convinience we save the coefficients in the file `coeffs.txt`."
     ]
    },
    {
     "cell_type": "code",
     "collapsed": false,
     "input": [
      "fn = 'coeffs.txt'\n",
      "with open(fn, 'w') as f:\n",
      "    f.write('\\n'.join([str(c) for c in h]))"
     ],
     "language": "python",
     "metadata": {},
     "outputs": [],
     "prompt_number": 90
    },
    {
     "cell_type": "code",
     "collapsed": false,
     "input": [],
     "language": "python",
     "metadata": {},
     "outputs": [],
     "prompt_number": 86
    }
   ],
   "metadata": {}
  }
 ]
}